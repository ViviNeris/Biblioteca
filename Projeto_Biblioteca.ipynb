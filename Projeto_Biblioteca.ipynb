{
  "nbformat": 4,
  "nbformat_minor": 0,
  "metadata": {
    "colab": {
      "provenance": [],
      "authorship_tag": "ABX9TyM3cFF7QqtOhWShJMltkYUr",
      "include_colab_link": true
    },
    "kernelspec": {
      "name": "python3",
      "display_name": "Python 3"
    },
    "language_info": {
      "name": "python"
    }
  },
  "cells": [
    {
      "cell_type": "markdown",
      "metadata": {
        "id": "view-in-github",
        "colab_type": "text"
      },
      "source": [
        "<a href=\"https://colab.research.google.com/github/ViviNeris/Biblioteca/blob/main/Projeto_Biblioteca.ipynb\" target=\"_parent\"><img src=\"https://colab.research.google.com/assets/colab-badge.svg\" alt=\"Open In Colab\"/></a>"
      ]
    },
    {
      "cell_type": "markdown",
      "source": [
        "Projeto Biblioteca."
      ],
      "metadata": {
        "id": "Q5krbrLvZ698"
      }
    },
    {
      "cell_type": "code",
      "execution_count": 1,
      "metadata": {
        "colab": {
          "base_uri": "https://localhost:8080/"
        },
        "id": "URbgmIulZ6Vd",
        "outputId": "2aa96177-f947-4b5a-9700-44028e6854d8"
      },
      "outputs": [
        {
          "output_type": "stream",
          "name": "stdout",
          "text": [
            "\n",
            "Menu:\n",
            "1. Adicionar Livro\n",
            "2. Verificar Disponibilidade\n",
            "3. Listar Livros\n",
            "4. Remover Livro\n",
            "0. Sair\n",
            "Digite a opção desejada: 0\n",
            " Saindo do Programa...\n"
          ]
        }
      ],
      "source": [
        "# Etapa 1. Criar uma Biblioteca (lista) vazia para receber os livros cadastrados.\n",
        "biblioteca = []\n",
        "\n",
        "# Etapa 2. Criar uma Função de adicione livros a Biblioteca por meio de Inputs de Usuário.\n",
        "def adicionar_livro():\n",
        "  titulo = input(\"Digite o Título do Livro: \").lower()\n",
        "  autor = input(\"Digite o Nome do Autor do Livro: \").lower()\n",
        "  disponibilidade = input(\"O livro está disponível? (Sim / Não): \").lower()\n",
        "  livro = {\"Título\": titulo, \"Autor\": autor, \"Disponibilidade\": disponibilidade}\n",
        "  biblioteca.append(livro)\n",
        "  print(\"Livro Adicionado com Sucesso!\")\n",
        "\n",
        "# Etapa 3. Criar uma Função que verifique a disponibilidade dos livros na Biblioteca por meio de Inputs de Usuário.\n",
        "def verificar_disponibilidade():\n",
        "  titulo = input(\"Digite o Título do Livro: \").lower()\n",
        "  for livro in biblioteca:\n",
        "    if livro[\"Título\"] == titulo:\n",
        "      if livro[\"Disponibilidade\"] == \"sim\":\n",
        "\n",
        "        print(f\"O livro {titulo} está disponível.\")\n",
        "      else:\n",
        "        print(f\"O livro {titulo} não está disponível no momento.\")\n",
        "      return\n",
        "  print(f\"O livro {titulo} não está cadastrado na biblioteca.\")\n",
        "\n",
        "\n",
        "# Etapa 4. Criar uma Função que liste todos os livros da Biblioteca.\n",
        "def listar_livros():\n",
        "  print(\"Lista de Livros na Biblioteca: \")\n",
        "  for livro in biblioteca:\n",
        "    print(f\"Título: {livro['Título']}, Autor: {livro['Autor']}, Disponibilidade: {livro['Disponibilidade']}\")\n",
        "\n",
        "# Etapa 5. Criar uma Função que remova os livros da Biblioteca por meio de Inputs de Usuário.\n",
        "def remover_livro():\n",
        "  titulo = input(\"Digite o Título do Livro a ser removido:\").lower()\n",
        "  for livro in biblioteca:\n",
        "    if livro[\"Título\"] == titulo:\n",
        "      biblioteca.remove(livro)\n",
        "      print(f\"Livro {titulo} foi removido da Biblioteca com sucesso!\")\n",
        "      return\n",
        "  print(f\"O livro {titulo} não está cadastrado na Biblioteca.\")\n",
        "\n",
        "# Etapa 6. Criar o Menu no qual, de acordo com o Input de Usuário, ele \"chamará\" uma das Funções geradas.\n",
        "def menu():\n",
        "  print(\"\\nMenu:\")\n",
        "  print(\"1. Adicionar Livro\")\n",
        "  print(\"2. Verificar Disponibilidade\")\n",
        "  print(\"3. Listar Livros\")\n",
        "  print(\"4. Remover Livro\")\n",
        "  print(\"0. Sair\")\n",
        "# Criar a variável de opção qye o Usuário poderá digitar\n",
        "  opcao = input(\"Digite a opção desejada: \")\n",
        "  if opcao == \"1\":\n",
        "    adicionar_livro()\n",
        "  elif opcao == \"2\":\n",
        "    verificar_disponibilidade()\n",
        "  elif opcao == \"3\":\n",
        "    listar_livros()\n",
        "  elif opcao == \"4\":\n",
        "    remover_livro()\n",
        "  elif opcao == \"0\":\n",
        "    print(\" Saindo do Programa...\")\n",
        "    return\n",
        "  else:\n",
        "    print(\"Opção Inválida. Por favor, escolha uma opção válida, tente novamente.\")\n",
        "\n",
        "  menu()\n",
        "\n",
        "menu()\n",
        "\n"
      ]
    }
  ]
}